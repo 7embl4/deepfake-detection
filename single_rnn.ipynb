{
 "cells": [
  {
   "cell_type": "code",
   "execution_count": 1,
   "id": "65b4fe76",
   "metadata": {},
   "outputs": [],
   "source": [
    "import torch\n",
    "import torch.nn as nn\n",
    "import torch.nn.functional as F\n",
    "import torch.utils.data as data\n",
    "import torchvision.transforms.v2 as tfs\n",
    "from torchinfo import summary\n",
    "from sklearn.model_selection import train_test_split\n",
    "\n",
    "from torchvision.models import vit_b_32, ViT_B_32_Weights, swin_t, Swin_T_Weights\n",
    "\n",
    "import numpy as np\n",
    "import matplotlib.pyplot as plt\n",
    "from PIL import Image\n",
    "from tqdm import tqdm\n",
    "from pytorch_memlab import MemReporter\n",
    "\n",
    "import os\n",
    "import warnings\n",
    "from IPython.display import clear_output\n",
    "\n",
    "warnings.filterwarnings('ignore')"
   ]
  },
  {
   "cell_type": "code",
   "execution_count": 15,
   "id": "7e4b6749",
   "metadata": {},
   "outputs": [],
   "source": [
    "device = 'cuda' if torch.cuda.is_available() else 'cpu'\n",
    "\n",
    "# PATHS\n",
    "PATH_TO_DATASET = './ProcessedDataset'\n",
    "\n",
    "# IMAGES\n",
    "IMAGE_WIDTH  = 224\n",
    "IMAGE_HEIGHT = 224\n",
    "REAL_LABEL   = 0\n",
    "FAKE_LABEL   = 1\n",
    "\n",
    "# IMAGE ENCODERS\n",
    "EMBEDDING_SIZE       = 768\n",
    "HID_STATE            = 1280\n",
    "NUM_CLASSES          = 2   \n",
    "BATCH_SIZE           = 32\n",
    "DROPOUT              = 0.2\n",
    "NUM_HEADS            = 8\n",
    "NUM_FRAMES           = 30      # number of frames in each video\n",
    "NUM_LEVELS           = 6\n",
    "\n",
    "# TRAINING\n",
    "RANDOM_SEED = 42\n",
    "NUM_EPOCH   = 20\n",
    "BASE_LR     = 1e-5\n",
    "TRAIN_SIZE  = 0.8\n",
    "VAL_SIZE    = 0.1\n",
    "TEST_SIZE   = 1.0 - TRAIN_SIZE - VAL_SIZE"
   ]
  },
  {
   "cell_type": "markdown",
   "id": "cf59e811",
   "metadata": {},
   "source": [
    "### Dataset"
   ]
  },
  {
   "cell_type": "code",
   "execution_count": 3,
   "id": "b92aca7b",
   "metadata": {},
   "outputs": [],
   "source": [
    "class DeepfakeDataset(data.Dataset):\n",
    "    def __init__(self, path, deepfake_type, transform=None):\n",
    "        super().__init__()\n",
    "\n",
    "        self.path = path\n",
    "        self.deepfake_type = deepfake_type\n",
    "        self.transform = transform\n",
    "        self.files = []\n",
    "        self.targets = []\n",
    "        self.len = 0\n",
    "\n",
    "        # real videos\n",
    "        path_to_real = os.path.join(self.path, 'original')\n",
    "        real = os.listdir(path_to_real)\n",
    "        self.files.extend(list(map(lambda x: os.path.join(path_to_real, x), real)))\n",
    "        self.targets.extend([REAL_LABEL] * len(real))\n",
    "        self.len += len(real)\n",
    "\n",
    "        # fake videos\n",
    "        path_to_fake = os.path.join(self.path, self.deepfake_type)\n",
    "        fake = os.listdir(path_to_fake)\n",
    "        self.files.extend(list(map(lambda x: os.path.join(path_to_fake, x), fake)))\n",
    "        self.targets.extend([FAKE_LABEL] * len(fake))\n",
    "        self.len += len(fake)\n",
    "\n",
    "        self.targets = torch.tensor(self.targets)\n",
    "\n",
    "    def __getitem__(self, index):\n",
    "        video = self.files[index]\n",
    "        t = self.targets[index].item()\n",
    "        v = []\n",
    "\n",
    "        frames = os.listdir(video)\n",
    "        frames.sort(key=lambda x: int(x[6:-4])) #sorting frames since os.listdir has no order of elements\n",
    "\n",
    "        for frame in frames:\n",
    "            f = Image.open(os.path.join(video, frame))\n",
    "            if (self.transform):\n",
    "                f = self.transform(f)\n",
    "            v.append(f)\n",
    "\n",
    "        v = torch.stack(v)\n",
    "\n",
    "        return v, t\n",
    "    \n",
    "    def __len__(self):\n",
    "        return self.len"
   ]
  },
  {
   "cell_type": "code",
   "execution_count": 4,
   "id": "79e04dd1",
   "metadata": {},
   "outputs": [],
   "source": [
    "transforms = tfs.Compose([\n",
    "    tfs.ToTensor(),\n",
    "    tfs.Resize((IMAGE_WIDTH, IMAGE_HEIGHT), interpolation=tfs.InterpolationMode.BICUBIC),\n",
    "    tfs.ToDtype(torch.float32),\n",
    "    tfs.Normalize(mean=(0.485, 0.456, 0.406), std=(0.229, 0.224, 0.225))\n",
    "])"
   ]
  },
  {
   "cell_type": "code",
   "execution_count": 5,
   "id": "fe78cf39",
   "metadata": {},
   "outputs": [
    {
     "name": "stdout",
     "output_type": "stream",
     "text": [
      "Deepfakes: 1998\n",
      "Face2Face: 1999\n",
      "FaceSwap: 1999\n"
     ]
    }
   ],
   "source": [
    "deepfakes_dataset = DeepfakeDataset(PATH_TO_DATASET, 'Deepfakes', transform=transforms)\n",
    "face2face_dataset = DeepfakeDataset(PATH_TO_DATASET, 'Face2Face', transform=transforms)\n",
    "faceswap_dataset = DeepfakeDataset(PATH_TO_DATASET, 'FaceSwap', transform=transforms)\n",
    "\n",
    "print(f'Deepfakes: {len(deepfakes_dataset)}')\n",
    "print(f'Face2Face: {len(face2face_dataset)}')\n",
    "print(f'FaceSwap: {len(faceswap_dataset)}')"
   ]
  },
  {
   "cell_type": "markdown",
   "id": "3fc9794c",
   "metadata": {},
   "source": [
    "### Dataloaders"
   ]
  },
  {
   "cell_type": "code",
   "execution_count": 6,
   "id": "e0ef1863",
   "metadata": {},
   "outputs": [],
   "source": [
    "def get_dataloaders(dataset):\n",
    "    # get split indices \n",
    "    train_idx, temp_idx = train_test_split(\n",
    "        np.arange(len(dataset.targets)),\n",
    "        test_size=TEST_SIZE + VAL_SIZE,\n",
    "        shuffle=True,\n",
    "        stratify=dataset.targets,\n",
    "        random_state=RANDOM_SEED\n",
    "    )\n",
    "    val_idx, test_idx = train_test_split(\n",
    "        temp_idx,\n",
    "        test_size=TEST_SIZE / (TEST_SIZE + VAL_SIZE),\n",
    "        stratify=dataset.targets[temp_idx],\n",
    "        random_state=RANDOM_SEED\n",
    "    )\n",
    "\n",
    "    # make subsets\n",
    "    train_dataset = data.Subset(dataset, train_idx)\n",
    "    val_dataset = data.Subset(dataset, val_idx)\n",
    "    test_dataset = data.Subset(dataset, test_idx)\n",
    "\n",
    "    # make dataloaders\n",
    "    train_dataloader = data.DataLoader(train_dataset, batch_size=BATCH_SIZE, shuffle=True)\n",
    "    val_dataloader = data.DataLoader(val_dataset, batch_size=BATCH_SIZE, shuffle=False)\n",
    "    test_dataloader = data.DataLoader(test_dataset, batch_size=BATCH_SIZE, shuffle=False)\n",
    "\n",
    "    return train_dataloader, val_dataloader, test_dataloader"
   ]
  },
  {
   "cell_type": "code",
   "execution_count": 7,
   "id": "895bcd84",
   "metadata": {},
   "outputs": [],
   "source": [
    "deepfakes_train_dataloader, deepfakes_val_dataloader, deepfakes_test_dataloader = get_dataloaders(deepfakes_dataset)\n",
    "face2face_train_dataloader, face2face_val_dataloader, face2face_test_dataloader = get_dataloaders(face2face_dataset)\n",
    "faceswap_train_dataloader, faceswap_val_dataloader, faceswap_test_dataloader = get_dataloaders(faceswap_dataset)"
   ]
  },
  {
   "cell_type": "markdown",
   "id": "e0e539b3",
   "metadata": {},
   "source": [
    "### Train functions"
   ]
  },
  {
   "cell_type": "code",
   "execution_count": 8,
   "id": "6c7589d2",
   "metadata": {},
   "outputs": [],
   "source": [
    "def train_model(classifier_model, train_data, val_data, save=None):\n",
    "    opt = torch.optim.AdamW(classifier_model.parameters(), BASE_LR)\n",
    "    loss_func = nn.CrossEntropyLoss()\n",
    "    scheduler = torch.optim.lr_scheduler.ReduceLROnPlateau(opt, factor=0.2, patience=3, threshold=4e-3, min_lr=1e-7)\n",
    "    \n",
    "    val_loss_history = []\n",
    "    accuracy_history = []\n",
    "    train_loss_history = []\n",
    "\n",
    "    for _e in range(NUM_EPOCH):\n",
    "        # ----- training -----\n",
    "        train_loss = 0\n",
    "        classifier_model.train()\n",
    "        for x_batch, y_batch in tqdm(train_data, desc=f'Epoch {_e + 1}/{NUM_EPOCH} training'):\n",
    "            x_batch, y_batch = x_batch.to(device), y_batch.to(device)\n",
    "\n",
    "            # gradient descent\n",
    "            opt.zero_grad()\n",
    "            output = classifier_model(x_batch)\n",
    "            loss = loss_func(output, y_batch)\n",
    "            train_loss += loss.item() * len(y_batch)\n",
    "            \n",
    "            loss.backward()\n",
    "            opt.step()\n",
    "        \n",
    "        # ----- validation -----\n",
    "        correct = 0\n",
    "        total = 0\n",
    "        val_loss = 0.0\n",
    "        classifier_model.eval()\n",
    "        with torch.no_grad():\n",
    "            for x_val, y_val in tqdm(val_data, desc=f'Validation'):\n",
    "                x_val, y_val = x_val.to(device), y_val.to(device)\n",
    "\n",
    "                output = classifier_model(x_val)\n",
    "                correct += torch.sum(torch.argmax(output, dim=1) == y_val).item()\n",
    "                total += len(y_val)\n",
    "                val_loss += loss_func(output, y_val).item() * len(y_val)\n",
    "\n",
    "        train_loss /= len(train_data.dataset)\n",
    "        val_loss /= len(val_data.dataset)\n",
    "        accuracy = correct / total\n",
    "\n",
    "        val_loss_history.append(val_loss)\n",
    "        accuracy_history.append(accuracy)\n",
    "        train_loss_history.append(train_loss)\n",
    "\n",
    "        # ----- monitoring -----\n",
    "        clear_output()\n",
    "        print('-------------------------------')\n",
    "        print(f'Epoch {_e + 1} stats')\n",
    "        print(f'Train loss: {train_loss:.4f}')\n",
    "        print(f'Validation accuracy: {accuracy:.4f}')\n",
    "        print(f'Validation loss: {val_loss:.4f}')\n",
    "        print(f'Current learning rate: {scheduler.get_last_lr()[-1]}')\n",
    "        print('-------------------------------')\n",
    "        \n",
    "        fig, ax = plt.subplots(2)\n",
    "        fig.tight_layout()\n",
    "\n",
    "        ax[0].plot(range(_e + 1), train_loss_history, label='Train loss')\n",
    "        ax[0].set_title('Train metrics')\n",
    "        ax[0].legend(loc='upper left')\n",
    "\n",
    "        ax[1].plot(range(_e + 1), val_loss_history, label='Val loss')\n",
    "        ax[1].plot(range(_e + 1), accuracy_history, label='Val accuracy')\n",
    "        ax[1].set_title('Val metrics')\n",
    "        ax[1].legend(loc='upper left')\n",
    "        \n",
    "        plt.show()\n",
    "\n",
    "        # update scheduler\n",
    "        scheduler.step(val_loss)\n",
    "    \n",
    "    # ----- saving -----\n",
    "    if (save):\n",
    "        torch.save(classifier_model.state_dict(), 'models/' + save + '.tar')"
   ]
  },
  {
   "cell_type": "code",
   "execution_count": 9,
   "id": "6c344365",
   "metadata": {},
   "outputs": [],
   "source": [
    "def get_model_metrics(classifier_model, test_data):\n",
    "    TP = 0\n",
    "    TN = 0\n",
    "    FP = 0\n",
    "    FN = 0\n",
    "\n",
    "    classifier_model.eval()\n",
    "    with torch.no_grad():\n",
    "        for x_test, y_test in tqdm(test_data, desc='Testing'):\n",
    "            x_test, y_test = x_test.to(device), y_test.to(device)\n",
    "\n",
    "            # get classification\n",
    "            output = classifier_model(x_test)\n",
    "            y_pred = torch.argmax(output, dim=1)\n",
    "\n",
    "            for pred, real in zip(y_pred, y_test):\n",
    "                if (pred == 1 and real == 1):\n",
    "                    TP += 1\n",
    "                elif (pred == 0 and real == 0):\n",
    "                    TN += 1\n",
    "                elif (pred == 1 and real == 0):\n",
    "                    FP += 1\n",
    "                elif (pred == 0 and real == 1):\n",
    "                    FN += 1\n",
    "                else:\n",
    "                    raise f'Uncorrect labels; predicted: {pred}, real: {real}'\n",
    "\n",
    "    return TP, TN, FP, FN"
   ]
  },
  {
   "cell_type": "markdown",
   "id": "987184a5",
   "metadata": {},
   "source": [
    "### Single RNN Model"
   ]
  },
  {
   "cell_type": "code",
   "execution_count": 10,
   "id": "3dded2d4",
   "metadata": {},
   "outputs": [],
   "source": [
    "class DeepfakeClassifierSingleRNN(nn.Module):\n",
    "    def __init__(self, input_size=EMBEDDING_SIZE, hid_state=HID_STATE):\n",
    "        super().__init__()\n",
    "\n",
    "        # encoder\n",
    "        self.backbone = vit_b_32(weights=ViT_B_32_Weights.IMAGENET1K_V1)\n",
    "        self.backbone.eval()\n",
    "        self.activations = {}\n",
    "\n",
    "        # hooks\n",
    "        self.backbone.encoder.layers[-1].register_forward_hook(self.__get_activation('final_embedding'))\n",
    "\n",
    "        # rnn for each levels of hierarchy\n",
    "        self.rnn = nn.GRU(input_size, hid_state, batch_first=True)\n",
    "\n",
    "        # linear layer\n",
    "        self.fc = nn.Linear(hid_state, NUM_CLASSES)\n",
    "    \n",
    "    def forward(self, x):\n",
    "        self.activations = {}\n",
    "        batch_size = x.shape[0]\n",
    "\n",
    "        outputs = []\n",
    "        for i in range(batch_size):\n",
    "            # pass all frames to encoder\n",
    "            with torch.no_grad():\n",
    "                self.backbone(x[i])\n",
    "\n",
    "            # get embeddings from different hidden states\n",
    "            # embeddings.shape = [seq_len, num_hid_states, frames_hid_state]\n",
    "            final_embedding = self.activations['final_embedding']\n",
    "\n",
    "            # rnn for each levels of hierarchy\n",
    "            out, _ = self.rnn(final_embedding)\n",
    "            outputs.append(out[-1])\n",
    "        \n",
    "        # get logits\n",
    "        # outputs.shape = [batch_size, NUM_LEVELS * hid_state]\n",
    "        outputs = torch.stack(outputs)\n",
    "        logits = self.fc(outputs)\n",
    "            \n",
    "        return logits\n",
    "\n",
    "    def __get_activation(self, name):\n",
    "        def hook(model, input, output):\n",
    "            # getting only CLS tokens\n",
    "            self.activations[name] = output[:, 0, :].detach()\n",
    "        return hook"
   ]
  },
  {
   "cell_type": "markdown",
   "id": "18488fc8",
   "metadata": {},
   "source": [
    "#### Deepfakes"
   ]
  },
  {
   "cell_type": "code",
   "execution_count": 22,
   "id": "eefbba6d",
   "metadata": {},
   "outputs": [
    {
     "name": "stdout",
     "output_type": "stream",
     "text": [
      "-------------------------------\n",
      "Epoch 20 stats\n",
      "Train loss: 0.1384\n",
      "Validation accuracy: 0.8900\n",
      "Validation loss: 0.3408\n",
      "Current learning rate: 2.0000000000000003e-06\n",
      "-------------------------------\n"
     ]
    },
    {
     "data": {
      "image/png": "[encoded data removed]",
      "text/plain": [
       "<Figure size 640x480 with 2 Axes>"
      ]
     },
     "metadata": {},
     "output_type": "display_data"
    }
   ],
   "source": [
    "rnn_deepfakes = DeepfakeClassifierSingleRNN().to(device)\n",
    "if (os.path.exists('models/single_rnn/rnn_deepfakes.tar')):\n",
    "    rnn_deepfakes.load_state_dict(torch.load('models/rnn_deepfakes.tar', weights_only=True))\n",
    "else:\n",
    "    train_model(rnn_deepfakes, deepfakes_train_dataloader, deepfakes_val_dataloader, 'single_rnn/rnn_deepfakes')"
   ]
  },
  {
   "cell_type": "code",
   "execution_count": 23,
   "id": "e071c922",
   "metadata": {},
   "outputs": [
    {
     "name": "stderr",
     "output_type": "stream",
     "text": [
      "Testing: 100%|██████████| 7/7 [00:09<00:00,  1.31s/it]"
     ]
    },
    {
     "name": "stdout",
     "output_type": "stream",
     "text": [
      "True Positive:  87\n",
      "True Negative:  93\n",
      "False Positive: 7\n",
      "False Negative: 13\n",
      "-----------------------\n",
      "Accuracy: 90.0%\n"
     ]
    },
    {
     "name": "stderr",
     "output_type": "stream",
     "text": [
      "\n"
     ]
    }
   ],
   "source": [
    "rnn_deepfakes.eval()\n",
    "TP, TN, FP, FN = get_model_metrics(rnn_deepfakes, deepfakes_test_dataloader)\n",
    "\n",
    "print(f'True Positive:  {TP}')\n",
    "print(f'True Negative:  {TN}')\n",
    "print(f'False Positive: {FP}')\n",
    "print(f'False Negative: {FN}')\n",
    "print('-----------------------')\n",
    "print(f'Accuracy: {(TP + TN) / (TP + TN + FP + FN) * 100}%')"
   ]
  },
  {
   "cell_type": "markdown",
   "id": "aef11794",
   "metadata": {},
   "source": [
    "#### Face2Face"
   ]
  },
  {
   "cell_type": "code",
   "execution_count": 19,
   "id": "e2751d30",
   "metadata": {},
   "outputs": [],
   "source": [
    "rnn_face2face = DeepfakeClassifierSingleRNN().to(device)\n",
    "if (os.path.exists('models/single_rnn/rnn_face2face.tar')):\n",
    "    rnn_face2face.load_state_dict(torch.load('models/single_rnn/rnn_face2face.tar', weights_only=True))\n",
    "else:\n",
    "    train_model(rnn_face2face, face2face_train_dataloader, face2face_val_dataloader, 'single_rnn/rnn_face2face')"
   ]
  },
  {
   "cell_type": "code",
   "execution_count": 20,
   "id": "5cc3647f",
   "metadata": {},
   "outputs": [
    {
     "name": "stderr",
     "output_type": "stream",
     "text": [
      "Testing: 100%|██████████| 7/7 [00:09<00:00,  1.34s/it]"
     ]
    },
    {
     "name": "stdout",
     "output_type": "stream",
     "text": [
      "True Positive:  75\n",
      "True Negative:  82\n",
      "False Positive: 18\n",
      "False Negative: 25\n",
      "-----------------------\n",
      "Accuracy: 78.5%\n"
     ]
    },
    {
     "name": "stderr",
     "output_type": "stream",
     "text": [
      "\n"
     ]
    }
   ],
   "source": [
    "rnn_face2face.eval()\n",
    "TP, TN, FP, FN = get_model_metrics(rnn_face2face, face2face_test_dataloader)\n",
    "\n",
    "print(f'True Positive:  {TP}')\n",
    "print(f'True Negative:  {TN}')\n",
    "print(f'False Positive: {FP}')\n",
    "print(f'False Negative: {FN}')\n",
    "print('-----------------------')\n",
    "print(f'Accuracy: {(TP + TN) / (TP + TN + FP + FN) * 100}%')"
   ]
  },
  {
   "cell_type": "markdown",
   "id": "3334b0ff",
   "metadata": {},
   "source": [
    "#### FaceSwap"
   ]
  },
  {
   "cell_type": "code",
   "execution_count": 13,
   "id": "5d4f86e1",
   "metadata": {},
   "outputs": [
    {
     "name": "stdout",
     "output_type": "stream",
     "text": [
      "-------------------------------\n",
      "Epoch 20 stats\n",
      "Train loss: 0.2426\n",
      "Validation accuracy: 0.8050\n",
      "Validation loss: 0.4770\n",
      "Current learning rate: 2.0000000000000003e-06\n",
      "-------------------------------\n"
     ]
    },
    {
     "data": {
      "image/png": "[encoded data removed]",
      "text/plain": [
       "<Figure size 640x480 with 2 Axes>"
      ]
     },
     "metadata": {},
     "output_type": "display_data"
    }
   ],
   "source": [
    "rnn_faceswap = DeepfakeClassifierSingleRNN().to(device)\n",
    "if (os.path.exists('models/single_rnn/rnn_faceswap.tar')):\n",
    "    rnn_faceswap.load_state_dict(torch.load('models/single_rnn/rnn_faceswap.tar', weights_only=True))\n",
    "else:\n",
    "    train_model(rnn_faceswap, faceswap_train_dataloader, faceswap_val_dataloader, 'single_rnn/rnn_faceswap')"
   ]
  },
  {
   "cell_type": "code",
   "execution_count": 14,
   "id": "f6c3c9cb",
   "metadata": {},
   "outputs": [
    {
     "name": "stderr",
     "output_type": "stream",
     "text": [
      "Testing: 100%|██████████| 7/7 [00:09<00:00,  1.35s/it]"
     ]
    },
    {
     "name": "stdout",
     "output_type": "stream",
     "text": [
      "True Positive:  72\n",
      "True Negative:  77\n",
      "False Positive: 23\n",
      "False Negative: 28\n",
      "-----------------------\n",
      "Accuracy: 74.5%\n"
     ]
    },
    {
     "name": "stderr",
     "output_type": "stream",
     "text": [
      "\n"
     ]
    }
   ],
   "source": [
    "rnn_faceswap.eval()\n",
    "TP, TN, FP, FN = get_model_metrics(rnn_faceswap, faceswap_test_dataloader)\n",
    "\n",
    "print(f'True Positive:  {TP}')\n",
    "print(f'True Negative:  {TN}')\n",
    "print(f'False Positive: {FP}')\n",
    "print(f'False Negative: {FN}')\n",
    "print('-----------------------')\n",
    "print(f'Accuracy: {(TP + TN) / (TP + TN + FP + FN) * 100}%')"
   ]
  }
 ],
 "metadata": {
  "kernelspec": {
   "display_name": "Python 3",
   "language": "python",
   "name": "python3"
  },
  "language_info": {
   "codemirror_mode": {
    "name": "ipython",
    "version": 3
   },
   "file_extension": ".py",
   "mimetype": "text/x-python",
   "name": "python",
   "nbconvert_exporter": "python",
   "pygments_lexer": "ipython3",
   "version": "3.12.3"
  }
 },
 "nbformat": 4,
 "nbformat_minor": 5
}
