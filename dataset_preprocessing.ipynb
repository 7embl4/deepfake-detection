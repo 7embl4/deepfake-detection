{
 "cells": [
  {
   "cell_type": "code",
   "execution_count": null,
   "id": "072422e3",
   "metadata": {},
   "outputs": [],
   "source": [
    "import cv2\n",
    "import torch\n",
    "\n",
    "import numpy as np\n",
    "import pandas as pd\n",
    "\n",
    "from PIL import Image\n",
    "from deepface import DeepFace\n",
    "\n",
    "from tqdm import tqdm\n",
    "from IPython.display import clear_output\n",
    "\n",
    "import os\n",
    "import warnings\n",
    "\n",
    "warnings.filterwarnings('ignore')\n",
    "clear_output()"
   ]
  },
  {
   "cell_type": "code",
   "execution_count": null,
   "id": "4c935189",
   "metadata": {},
   "outputs": [],
   "source": [
    "device = 'cuda' if torch.cuda.is_available() else 'cpu'\n",
    "\n",
    "path_to_original_dataset = \"./FaceForensics++\"\n",
    "path_to_processed_dataset = \"./ProcessedDataset\"\n",
    "\n",
    "folders = os.listdir(path_to_original_dataset)\n",
    "folders.remove('csv')\n",
    "\n",
    "FRAMES_STEP = 5\n",
    "\n",
    "N_FRAMES = 30\n",
    "\n",
    "IMAGE_WIDTH = 720\n",
    "IMAGE_HEIGHT = 720"
   ]
  },
  {
   "cell_type": "markdown",
   "id": "25e216bd",
   "metadata": {},
   "source": [
    "### Get frames from images"
   ]
  },
  {
   "cell_type": "code",
   "execution_count": 3,
   "id": "41cdab83",
   "metadata": {},
   "outputs": [],
   "source": [
    "def get_video_frames(path, step=FRAMES_STEP, max_frames=N_FRAMES):\n",
    "    video = cv2.VideoCapture(path)\n",
    "\n",
    "    if not video.isOpened():\n",
    "        assert print(f\"Error occured while opening a video - {path}\\n\")\n",
    "\n",
    "    frames = []\n",
    "    count = 0\n",
    "    while True:\n",
    "        ret, frame = video.read()\n",
    "        if not ret or len(frames) == max_frames:\n",
    "            break\n",
    "\n",
    "        if (count % step == 0):\n",
    "            frames.append(frame)\n",
    "        count += 1\n",
    "    \n",
    "    video.release()\n",
    "    return np.array(frames)"
   ]
  },
  {
   "cell_type": "code",
   "execution_count": 5,
   "id": "f20a89bc",
   "metadata": {},
   "outputs": [
    {
     "name": "stderr",
     "output_type": "stream",
     "text": [
      "Processing FaceSwap: 100%|██████████| 1000/1000 [1:01:12<00:00,  3.67s/it]\n"
     ]
    }
   ],
   "source": [
    "for folder in folders:\n",
    "    path_to_videos = os.path.join(path_to_original_dataset, folder)\n",
    "    path_to_save = os.path.join(path_to_processed_dataset, folder)\n",
    "    os.makedirs(path_to_save, exist_ok=True)\n",
    "\n",
    "    videos = os.listdir(path_to_videos)\n",
    "\n",
    "    for video in tqdm(videos, desc=f\"Processing {folder}\"):\n",
    "        frames = get_video_frames(os.path.join(path_to_videos, video))\n",
    "\n",
    "        # detect face and crop frame\n",
    "        frames_to_save = []\n",
    "        for frame in frames:\n",
    "            # make PIL image from array and resize it\n",
    "            pil_frame = Image.fromarray(frame)\n",
    "            pil_frame = pil_frame.resize((IMAGE_WIDTH, IMAGE_HEIGHT))\n",
    "\n",
    "            # detect face\n",
    "            locations = DeepFace.extract_faces(np.array(pil_frame), detector_backend='yolov8', enforce_detection=False)\n",
    "            if (len(locations) != 0):\n",
    "                most_conf_ind = np.argmax([locations[i]['confidence'] for i in range(len(locations))])\n",
    "\n",
    "                # in case that face not found on a frame\n",
    "                if (locations[most_conf_ind]['confidence'] == 0):\n",
    "                    continue\n",
    "                \n",
    "                face_as_np_array = np.array(locations[most_conf_ind]['face'] * 255, dtype=np.uint8)\n",
    "                face = Image.fromarray(face_as_np_array)\n",
    "\n",
    "                path = os.path.join(path_to_save, video[:-4], \"frame_\" + str(len(frames_to_save)) + \".jpg\")\n",
    "                frames_to_save.append((face, path))                \n",
    "        \n",
    "        # save if detected enough frames\n",
    "        if (len(frames_to_save) == N_FRAMES):\n",
    "            os.makedirs(os.path.join(path_to_save, video[:-4]))\n",
    "            for frame, path in frames_to_save:\n",
    "                frame.save(path)"
   ]
  }
 ],
 "metadata": {
  "kernelspec": {
   "display_name": "Python 3",
   "language": "python",
   "name": "python3"
  },
  "language_info": {
   "codemirror_mode": {
    "name": "ipython",
    "version": 3
   },
   "file_extension": ".py",
   "mimetype": "text/x-python",
   "name": "python",
   "nbconvert_exporter": "python",
   "pygments_lexer": "ipython3",
   "version": "3.12.3"
  }
 },
 "nbformat": 4,
 "nbformat_minor": 5
}
